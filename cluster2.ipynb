{
  "cells": [
    {
      "cell_type": "markdown",
      "metadata": {},
      "source": [
        "# Data Import"
      ]
    },
    {
      "cell_type": "code",
      "execution_count": null,
      "metadata": {
        "colab": {
          "base_uri": "https://localhost:8080/"
        },
        "id": "SeznztflI02X",
        "outputId": "8343e73f-d74b-4a6d-e4fc-a1719eeca0cf"
      },
      "outputs": [
        {
          "name": "stderr",
          "output_type": "stream",
          "text": [
            "<ipython-input-3-f19e7aa44cdd>:29: DeprecationWarning: DataFrameGroupBy.apply operated on the grouping columns. This behavior is deprecated, and in a future version of pandas the grouping columns will be excluded from the operation. Either pass `include_groups=False` to exclude the groupings or explicitly select the grouping columns after groupby to silence this warning.\n",
            "  dsub = dsub.groupby(\"PATIENT_ID\", group_keys=False).apply(lambda x: x.sample(n=1, random_state=42))\n"
          ]
        },
        {
          "data": {
            "text/plain": [
              "Ellipsis"
            ]
          },
          "execution_count": 6,
          "metadata": {},
          "output_type": "execute_result"
        }
      ],
      "source": [
        "np.random.seed(42)\n",
        "\n",
        "\n",
        "num_patients = 100\n",
        "num_events = 1080\n",
        "start_date = pd.Timestamp('2030-07-06')\n",
        "end_date = pd.Timestamp('2044-09-03')\n",
        "patient_ids = np.random.choice(range(1, num_patients + 1), num_events)\n",
        "date_range = (end_date - start_date).days\n",
        "event_dates = [\n",
        "    start_date + pd.Timedelta(days=np.random.randint(0, date_range))\n",
        "    for _ in range(num_events)\n",
        "]\n",
        "daily_dosages = np.random.randint(2, 21, num_events)\n",
        "medication_types = np.random.choice(['medA', 'medB'], num_events)\n",
        "durations = np.random.randint(20, 151, num_events)\n",
        "\n",
        "med_events = pd.DataFrame({\n",
        "    'PATIENT_ID': patient_ids,\n",
        "    'DATE': event_dates,\n",
        "    'PERDAY': daily_dosages,\n",
        "    'CATEGORY': medication_types,\n",
        "    'DURATION': durations\n",
        "})\n",
        "\n",
        "df_estimated_hier = sessa_empirical_estimator_hier(med_events, chosen_category=\"medA\", cut_ecdf=0.8)\n",
        "...\n"
      ]
    },
    {
      "cell_type": "code",
      "execution_count": null,
      "metadata": {
        "id": "NX0fnEj7LqEr"
      },
      "outputs": [],
      "source": [
        "import numpy as np\n",
        "import pandas as pd\n",
        "import matplotlib.pyplot as plt\n",
        "import seaborn as sns\n",
        "\n",
        "from sklearn.cluster import KMeans, AgglomerativeClustering\n",
        "from sklearn.metrics import silhouette_score\n",
        "from datetime import datetime, timedelta\n",
        "\n",
        "\n",
        "\n",
        "def sessa_empirical_estimator(df, chosen_category=\"medA\", cut_ecdf=0.8):\n",
        "\n",
        "\n",
        "    dsub = df[df[\"CATEGORY\"] == chosen_category].copy()\n",
        "    if dsub.empty:\n",
        "        print(f\"No rows found for category={chosen_category}\")\n",
        "        return None\n",
        "\n",
        "\n",
        "    dsub.sort_values(by=[\"PATIENT_ID\", \"DATE\"], inplace=True)\n",
        "\n",
        "    dsub[\"prev_DATE\"] = dsub.groupby(\"PATIENT_ID\")[\"DATE\"].shift(1)\n",
        "    dsub.dropna(subset=[\"prev_DATE\"], inplace=True)  \n",
        "    dsub[\"event_interval\"] = (dsub[\"DATE\"] - dsub[\"prev_DATE\"]).dt.days\n",
        "\n",
        "    dsub = dsub.groupby(\"PATIENT_ID\", group_keys=False).apply(lambda x: x.sample(n=1, random_state=42))\n",
        "\n",
        "    intervals_sorted = np.sort(dsub[\"event_interval\"].values)\n",
        "    if len(intervals_sorted) < 2:\n",
        "        print(\"Not enough intervals to build an ECDF.\")\n",
        "        return None\n",
        "\n",
        "    cutoff_index = int(len(intervals_sorted) * cut_ecdf)\n",
        "    cutoff_index = max(cutoff_index, 1)  \n",
        "    max_interval_kept = intervals_sorted[cutoff_index - 1]\n",
        "\n",
        "    dsub_in = dsub[dsub[\"event_interval\"] <= max_interval_kept].copy()\n",
        "    dsub_out = dsub[dsub[\"event_interval\"] > max_interval_kept].copy()\n",
        "\n",
        "    if dsub_in.empty:\n",
        "        print(\"All intervals were above the cutoff, cannot cluster.\")\n",
        "        return None\n",
        "\n",
        "\n",
        "    X = dsub_in[\"event_interval\"].values.reshape(-1, 1)\n",
        "    best_k = 2\n",
        "    best_score = -1\n",
        "    for k in range(2, 7):\n",
        "        km = KMeans(n_clusters=k, random_state=42).fit(X)\n",
        "        labels = km.labels_\n",
        "        score = silhouette_score(X, labels)\n",
        "        if score > best_score:\n",
        "            best_k = k\n",
        "            best_score = score\n",
        "\n",
        "\n",
        "    km_final = KMeans(n_clusters=best_k, random_state=42).fit(X)\n",
        "    labels_final = km_final.labels_\n",
        "    dsub_in[\"cluster\"] = labels_final\n",
        "\n",
        "    median_map = dsub_in.groupby(\"cluster\")[\"event_interval\"].median().to_dict()\n",
        "\n",
        "    dsub_in[\"median_interval\"] = dsub_in[\"cluster\"].map(median_map)\n",
        "\n",
        "    if not dsub_out.empty:\n",
        "        cluster_sizes = dsub_in[\"cluster\"].value_counts()\n",
        "        biggest_cluster = cluster_sizes.index[0] \n",
        "        biggest_median = median_map[biggest_cluster]\n",
        "        dsub_out[\"cluster\"] = biggest_cluster\n",
        "        dsub_out[\"median_interval\"] = biggest_median\n",
        "\n",
        "    df_result = pd.concat([dsub_in, dsub_out], axis=0)\n",
        "    df_result.sort_values([\"PATIENT_ID\", \"DATE\"], inplace=True)\n",
        "\n",
        "    return df_result\n",
        "\n"
      ]
    },
    {
      "cell_type": "markdown",
      "metadata": {},
      "source": [
        "# SEE-Hierarchical Function"
      ]
    },
    {
      "cell_type": "code",
      "execution_count": null,
      "metadata": {
        "id": "fxm_9OC_H5ar"
      },
      "outputs": [],
      "source": [
        "def sessa_empirical_estimator_hier(df, chosen_category=\"medA\", cut_ecdf=0.8):\n",
        "\n",
        "    dsub = df[df[\"CATEGORY\"] == chosen_category].copy()\n",
        "    if dsub.empty:\n",
        "        print(f\"No rows found for category={chosen_category}\")\n",
        "        return None\n",
        "\n",
        "    dsub.sort_values(by=[\"PATIENT_ID\", \"DATE\"], inplace=True)\n",
        "    dsub[\"prev_DATE\"] = dsub.groupby(\"PATIENT_ID\")[\"DATE\"].shift(1)\n",
        "    dsub.dropna(subset=[\"prev_DATE\"], inplace=True)\n",
        "    dsub[\"event_interval\"] = (dsub[\"DATE\"] - dsub[\"prev_DATE\"]).dt.days\n",
        "\n",
        "    dsub = dsub.groupby(\"PATIENT_ID\", group_keys=False).apply(lambda x: x.sample(n=1, random_state=42))\n",
        "\n",
        "    intervals_sorted = np.sort(dsub[\"event_interval\"].values)\n",
        "    if len(intervals_sorted) < 2:\n",
        "        print(\"Not enough intervals to build an ECDF.\")\n",
        "        return None\n",
        "\n",
        "    cutoff_index = int(len(intervals_sorted) * cut_ecdf)\n",
        "    cutoff_index = max(cutoff_index, 1)\n",
        "    max_interval_kept = intervals_sorted[cutoff_index - 1]\n",
        "\n",
        "    dsub_in = dsub[dsub[\"event_interval\"] <= max_interval_kept].copy()\n",
        "    dsub_out = dsub[dsub[\"event_interval\"] > max_interval_kept].copy()\n",
        "\n",
        "    if dsub_in.empty:\n",
        "        print(\"All intervals were above the cutoff, cannot cluster.\")\n",
        "        return None\n",
        "\n",
        "    X = dsub_in[\"event_interval\"].values.reshape(-1, 1)\n",
        "\n",
        "    best_k = 2\n",
        "    best_score = -1\n",
        "    for k in range(2, 7):\n",
        "        agg = AgglomerativeClustering(n_clusters=k)\n",
        "        labels = agg.fit_predict(X)\n",
        "        score = silhouette_score(X, labels)\n",
        "        if score > best_score:\n",
        "            best_k = k\n",
        "            best_score = score\n",
        "\n",
        "    agg_final = AgglomerativeClustering(n_clusters=best_k)\n",
        "    labels_final = agg_final.fit_predict(X)\n",
        "    dsub_in[\"cluster\"] = labels_final\n",
        "\n",
        "    median_map = dsub_in.groupby(\"cluster\")[\"event_interval\"].median().to_dict()\n",
        "    dsub_in[\"median_interval\"] = dsub_in[\"cluster\"].map(median_map)\n",
        "\n",
        "    if not dsub_out.empty:\n",
        "        cluster_sizes = dsub_in[\"cluster\"].value_counts()\n",
        "        biggest_cluster = cluster_sizes.index[0]\n",
        "        biggest_median = median_map[biggest_cluster]\n",
        "        dsub_out[\"cluster\"] = biggest_cluster\n",
        "        dsub_out[\"median_interval\"] = biggest_median\n",
        "\n",
        "    df_result = pd.concat([dsub_in, dsub_out], axis=0).sort_values([\"PATIENT_ID\", \"DATE\"])\n",
        "    return df_result\n"
      ]
    },
    {
      "cell_type": "code",
      "execution_count": null,
      "metadata": {
        "colab": {
          "base_uri": "https://localhost:8080/"
        },
        "id": "70Ce2KbqIB43",
        "outputId": "26c74d0c-d592-4aac-f1fc-f4dca118f7c1"
      },
      "outputs": [
        {
          "name": "stdout",
          "output_type": "stream",
          "text": [
            "     PATIENT_ID       DATE  PERDAY CATEGORY  DURATION  prev_DATE  \\\n",
            "290           1 2043-02-24       2     medA        92 2042-08-14   \n",
            "223           2 2034-07-26      16     medA        25 2033-12-05   \n",
            "740           3 2036-02-08       4     medA       132 2035-12-21   \n",
            "75            4 2033-01-13      14     medA        29 2033-01-07   \n",
            "814           5 2036-12-17      19     medA        36 2035-07-03   \n",
            "73            6 2031-10-26      11     medA        86 2031-03-07   \n",
            "334           7 2043-08-15      18     medA       110 2039-07-13   \n",
            "347           8 2041-11-15      10     medA        77 2041-08-01   \n",
            "406           9 2041-06-08       9     medA       115 2032-12-08   \n",
            "885          10 2040-12-14      12     medA       112 2037-09-19   \n",
            "\n",
            "     event_interval  cluster  median_interval  \n",
            "290             194        0            251.0  \n",
            "223             233        0            251.0  \n",
            "740              49        0            251.0  \n",
            "75                6        0            251.0  \n",
            "814             533        0            251.0  \n",
            "73              233        0            251.0  \n",
            "334            1494        0            251.0  \n",
            "347             106        0            251.0  \n",
            "406            3104        0            251.0  \n",
            "885            1182        1           1302.0  \n",
            "Unique clusters found: [0 1]\n"
          ]
        },
        {
          "name": "stderr",
          "output_type": "stream",
          "text": [
            "<ipython-input-8-f19e7aa44cdd>:29: DeprecationWarning: DataFrameGroupBy.apply operated on the grouping columns. This behavior is deprecated, and in a future version of pandas the grouping columns will be excluded from the operation. Either pass `include_groups=False` to exclude the groupings or explicitly select the grouping columns after groupby to silence this warning.\n",
            "  dsub = dsub.groupby(\"PATIENT_ID\", group_keys=False).apply(lambda x: x.sample(n=1, random_state=42))\n"
          ]
        }
      ],
      "source": [
        "\n",
        "df_estimated_hier = sessa_empirical_estimator_hier(med_events, chosen_category=\"medA\", cut_ecdf=0.8)\n",
        "print(df_estimated_hier.head(10))\n",
        "\n",
        "if df_estimated_hier is not None:\n",
        "    print(\"Unique clusters found:\", df_estimated_hier[\"cluster\"].unique())\n"
      ]
    },
    {
      "cell_type": "markdown",
      "metadata": {
        "id": "p-aDWXJFItop"
      },
      "source": []
    },
    {
      "cell_type": "markdown",
      "metadata": {
        "id": "2dhBnRHJIPLK"
      },
      "source": [
        "# Compare K-Means and Hierarchical on the Final “event_interval”\n"
      ]
    },
    {
      "cell_type": "code",
      "execution_count": null,
      "metadata": {
        "colab": {
          "base_uri": "https://localhost:8080/",
          "height": 791
        },
        "id": "5ybRkNW8IRAl",
        "outputId": "efa15510-76d8-41c3-fffb-9b47c9f11c88"
      },
      "outputs": [
        {
          "name": "stdout",
          "output_type": "stream",
          "text": [
            "\n",
            "K-Means best cluster count on 'event_interval': 3, silhouette=0.688\n",
            "Hierarchical best cluster count on 'event_interval': 4, silhouette=0.693\n"
          ]
        },
        {
          "data": {
            "image/png": "[encoded data removed]",
            "text/plain": [
              "<Figure size 800x400 with 1 Axes>"
            ]
          },
          "metadata": {},
          "output_type": "display_data"
        },
        {
          "data": {
            "image/png": "[encoded data removed]",
            "text/plain": [
              "<Figure size 800x400 with 1 Axes>"
            ]
          },
          "metadata": {},
          "output_type": "display_data"
        }
      ],
      "source": [
        "if df_estimated_hier is not None:\n",
        "    df_clust_h = df_estimated_hier.dropna(subset=[\"event_interval\"]).copy()\n",
        "\n",
        "    X_h = df_clust_h[\"event_interval\"].values.reshape(-1,1)\n",
        "\n",
        "    best_k_km = 2\n",
        "    best_score_km = -1\n",
        "    for k in range(2,7):\n",
        "        km = KMeans(n_clusters=k, random_state=42).fit(X_h)\n",
        "        labels_km = km.labels_\n",
        "        score_km = silhouette_score(X_h, labels_km)\n",
        "        if score_km > best_score_km:\n",
        "            best_score_km = score_km\n",
        "            best_k_km = k\n",
        "\n",
        "    final_km = KMeans(n_clusters=best_k_km, random_state=42).fit(X_h)\n",
        "    df_clust_h[\"cluster_kmeans\"] = final_km.labels_\n",
        "\n",
        "    print(f\"\\nK-Means best cluster count on 'event_interval': {best_k_km}, silhouette={best_score_km:.3f}\")\n",
        "\n",
        "    best_k_h2 = 2\n",
        "    best_score_h2 = -1\n",
        "    for k in range(2,7):\n",
        "        agg = AgglomerativeClustering(n_clusters=k)\n",
        "        labels_agg = agg.fit_predict(X_h)\n",
        "        score_agg = silhouette_score(X_h, labels_agg)\n",
        "        if score_agg > best_score_h2:\n",
        "            best_k_h2 = k\n",
        "            best_score_h2 = score_agg\n",
        "\n",
        "    final_agg2 = AgglomerativeClustering(n_clusters=best_k_h2)\n",
        "    df_clust_h[\"cluster_hier\"] = final_agg2.fit_predict(X_h)\n",
        "\n",
        "    print(f\"Hierarchical best cluster count on 'event_interval': {best_k_h2}, silhouette={best_score_h2:.3f}\")\n",
        "    \n",
        "    plt.figure(figsize=(8,4))\n",
        "    sns.histplot(data=df_clust_h, x=\"event_interval\", hue=\"cluster_kmeans\", multiple=\"stack\", kde=False)\n",
        "    plt.title(\"K-Means on event_interval (Post-Hier SEE Pipeline)\")\n",
        "    plt.show()\n",
        "\n",
        "    plt.figure(figsize=(8,4))\n",
        "    sns.histplot(data=df_clust_h, x=\"event_interval\", hue=\"cluster_hier\", multiple=\"stack\", kde=False)\n",
        "    plt.title(\"Hierarchical on event_interval (Post-Hier SEE Pipeline)\")\n",
        "    plt.show()\n"
      ]
    },
    {
      "cell_type": "markdown",
      "metadata": {},
      "source": [
        "# Key Insights:\n",
        "- Clusters (K-Means)\n",
        "    - 3 clusters which consist of Cluster 0 (short intervals: most patients refilling under ~500days),1 (medium intervals: ~500-1000 or 1500),and 2 (very large intervals: above ~1500 or 2000)\n",
        "    - Made all intervals ~1000-1500 days into a single group\n",
        "\n",
        "- Clusters (Hierarchical)\n",
        "    - 4 clusters which consist of Cluster 0 (very short intervals < 500 days>),1 (moderate intervals ~500-1000),2 (larger intervals 1000-2000),3 (most extreme intervals 2000+days)\n",
        "    - Splitted the longest intervals into a separate group\n",
        "\n",
        "- How do they group the cluster differently?\n",
        "    - K-means: tries to minimize variance from each cluster centroid, so it decided that 3 centroids was sufficient\n",
        "    - Hierarchical: merges intervals step by step, and it found a slightly better sillhouette by splitting those long intervals into 2 subgroups.\n",
        "\n",
        "- Comparison of Silhouette Scores\n",
        "    - Hierarchical showed slightly higher score: 0.693 than K-means':0.688\n",
        "    - The gap is small so both partitions/algorithms are fairly good"
      ]
    }
  ],
  "metadata": {
    "colab": {
      "provenance": []
    },
    "kernelspec": {
      "display_name": "Python 3",
      "name": "python3"
    },
    "language_info": {
      "name": "python"
    }
  },
  "nbformat": 4,
  "nbformat_minor": 0
}
